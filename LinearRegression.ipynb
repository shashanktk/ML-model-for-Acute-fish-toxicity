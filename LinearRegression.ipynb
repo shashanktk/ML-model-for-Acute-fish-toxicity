{
  "nbformat": 4,
  "nbformat_minor": 0,
  "metadata": {
    "colab": {
      "name": "Shashank'sLR.ipynb",
      "provenance": []
    },
    "kernelspec": {
      "name": "python3",
      "display_name": "Python 3"
    },
    "language_info": {
      "name": "python"
    }
  },
  "cells": [
    {
      "cell_type": "code",
      "metadata": {
        "id": "u3OP7LMyYc51"
      },
      "source": [
        "import pandas as pd\n",
        "from sklearn.linear_model import LinearRegression\n",
        "from sklearn.metrics import mean_squared_error, r2_score,mean_absolute_error\n",
        "from sklearn import preprocessing\n",
        "import pickle"
      ],
      "execution_count": 23,
      "outputs": []
    },
    {
      "cell_type": "code",
      "metadata": {
        "id": "0oNIVWOyYyx1"
      },
      "source": [
        "data=pd.read_excel('/content/Train.xlsx') "
      ],
      "execution_count": 24,
      "outputs": []
    },
    {
      "cell_type": "code",
      "metadata": {
        "id": "E9HLCwqljh3E"
      },
      "source": [
        "le = preprocessing.LabelEncoder()\n",
        "column_1=pd.DataFrame(le.fit_transform(data.iloc[:,0]))\n",
        "column_2=pd.DataFrame(le.fit_transform(data.iloc[:,1]))\n",
        "X=pd.concat([column_1,column_2],axis=1)"
      ],
      "execution_count": 26,
      "outputs": []
    },
    {
      "cell_type": "code",
      "metadata": {
        "id": "0pRzUtb0hygN"
      },
      "source": [
        "data_X=pd.concat([X,data.iloc[:,3:]], axis=1)"
      ],
      "execution_count": 27,
      "outputs": []
    },
    {
      "cell_type": "code",
      "metadata": {
        "id": "vmztpD_giByc"
      },
      "source": [
        "data_Y=data.iloc[:,2]"
      ],
      "execution_count": 28,
      "outputs": []
    },
    {
      "cell_type": "code",
      "metadata": {
        "id": "xWiqHXvecN0P"
      },
      "source": [
        "reg = LinearRegression().fit(data_X, data_Y)"
      ],
      "execution_count": 33,
      "outputs": []
    },
    {
      "cell_type": "code",
      "metadata": {
        "id": "aMWWBPbmmgvk"
      },
      "source": [
        "filename = 'Shashank_TumkurKarnick_229777'\n",
        "pickle.dump(reg, open(filename, 'wb'))"
      ],
      "execution_count": 34,
      "outputs": []
    }
  ]
}