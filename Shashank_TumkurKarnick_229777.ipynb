{
 "cells": [
  {
   "cell_type": "code",
   "execution_count": 4,
   "metadata": {
    "id": "8pMNkhKDa2G4"
   },
   "outputs": [],
   "source": [
    "import pandas as pd\n",
    "from sklearn.linear_model import LinearRegression\n",
    "from sklearn.metrics import mean_squared_error, r2_score,mean_absolute_error\n",
    "from sklearn import preprocessing\n",
    "import pickle"
   ]
  },
  {
   "cell_type": "code",
   "execution_count": 5,
   "metadata": {
    "id": "2AoOlCxLayYr"
   },
   "outputs": [],
   "source": [
    "def Your_Model(df_test):\n",
    "    \n",
    "    le = preprocessing.LabelEncoder() # label encodeer used for converting Categorical values to numerical values\n",
    "    column_1=pd.DataFrame(le.fit_transform(df_test.iloc[:,0])) #converting CAS\n",
    "    column_2=pd.DataFrame(le.fit_transform(df_test.iloc[:,1])) #converting SMILES\n",
    "    X=pd.concat([column_1,column_2],axis=1)\n",
    "    X_test=pd.concat([X,df_test.iloc[:,3:]], axis=1) # concatenating CAS, SMILES, MACCS\n",
    "    y_test=df_test.iloc[:,2] # separating the target column\n",
    "    reg =pickle.load(open('Shashank_TumkurKarnick_229777', 'rb')) # loading trained Linear Regression model from Pickle file \n",
    "                          #kindly change the directory name here\n",
    "    pred=reg.predict(X_test) # predicting target value for the test dataset\n",
    "\n",
    "    result={'MAE':mean_absolute_error(y_test,pred), 'MSE':mean_squared_error(y_test,pred), 'RMSE':mean_squared_error(y_test,pred,squared=False), 'R2':r2_score(y_test,pred) }\n",
    "\n",
    "    return result"
   ]
  },
  {
   "cell_type": "markdown",
   "metadata": {},
   "source": [
    "### The given dataset has been trained using the Linear Regression model wherein Sklearn library has been used in order to obtain the required parameters(MAE,MSE,RMSE,R2)\n",
    "\n",
    "### Firstly, the data was imported into Pandas dataframe from which the X_train and Y_train data were extracted. Then these training data were trained using the Linear Regression model which gave a good result."
   ]
  }
 ],
 "metadata": {
  "colab": {
   "name": "Final_program.ipynb",
   "provenance": []
  },
  "kernelspec": {
   "display_name": "Python 3",
   "language": "python",
   "name": "python3"
  },
  "language_info": {
   "codemirror_mode": {
    "name": "ipython",
    "version": 3
   },
   "file_extension": ".py",
   "mimetype": "text/x-python",
   "name": "python",
   "nbconvert_exporter": "python",
   "pygments_lexer": "ipython3",
   "version": "3.8.5"
  }
 },
 "nbformat": 4,
 "nbformat_minor": 1
}
